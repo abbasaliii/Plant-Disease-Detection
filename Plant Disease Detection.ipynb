{
 "cells": [
  {
   "cell_type": "markdown",
   "id": "886bdb18",
   "metadata": {},
   "source": [
    "## Plant Disease Detection"
   ]
  },
  {
   "cell_type": "markdown",
   "id": "9480556d",
   "metadata": {},
   "source": [
    "## Author: Syed Abbas Ali"
   ]
  },
  {
   "cell_type": "markdown",
   "id": "23d6e6a9",
   "metadata": {},
   "source": [
    "### Import necessary libraries"
   ]
  },
  {
   "cell_type": "code",
   "execution_count": 1,
   "id": "91fcc694",
   "metadata": {},
   "outputs": [],
   "source": [
    "import os\n",
    "import numpy as np\n",
    "import tensorflow as tf\n",
    "from tensorflow.keras.preprocessing.image import ImageDataGenerator\n",
    "from tensorflow.keras.applications import MobileNetV2\n",
    "from tensorflow.keras.layers import Dense, GlobalAveragePooling2D\n",
    "from tensorflow.keras.models import Model\n",
    "from tensorflow.keras.callbacks import LearningRateScheduler, ModelCheckpoint\n",
    "from sklearn.metrics import classification_report, confusion_matrix\n",
    "import matplotlib.pyplot as plt\n",
    "import warnings\n",
    "\n",
    "# Ignore warning messages\n",
    "warnings.filterwarnings('ignore')"
   ]
  },
  {
   "cell_type": "markdown",
   "id": "106d8f3a",
   "metadata": {},
   "source": [
    "### Data Preparation"
   ]
  },
  {
   "cell_type": "code",
   "execution_count": 2,
   "id": "eaa58c48",
   "metadata": {},
   "outputs": [
    {
     "name": "stdout",
     "output_type": "stream",
     "text": [
      "Found 43456 images belonging to 38 classes.\n",
      "Found 10849 images belonging to 38 classes.\n"
     ]
    }
   ],
   "source": [
    "# Set GPU device if available\n",
    "physical_devices = tf.config.list_physical_devices('GPU')\n",
    "if physical_devices:\n",
    "    tf.config.experimental.set_memory_growth(physical_devices[0], True)\n",
    "\n",
    "data_dir = r'C:\\Users\\HP\\OneDrive\\Desktop\\color'\n",
    "input_size = (128, 128)  # Use a smaller image size\n",
    "batch_size = 64\n",
    "\n",
    "# Use data augmentation and rescale images\n",
    "train_datagen = ImageDataGenerator(\n",
    "    rescale=1.0 / 255,\n",
    "    shear_range=0.2,\n",
    "    zoom_range=0.2,\n",
    "    horizontal_flip=True,\n",
    "    validation_split=0.2\n",
    ")\n",
    "\n",
    "train_generator = train_datagen.flow_from_directory(\n",
    "    data_dir,\n",
    "    target_size=input_size,\n",
    "    batch_size=batch_size,\n",
    "    class_mode='categorical',\n",
    "    subset='training'\n",
    ")\n",
    "\n",
    "validation_generator = train_datagen.flow_from_directory(\n",
    "    data_dir,\n",
    "    target_size=input_size,\n",
    "    batch_size=batch_size,\n",
    "    class_mode='categorical',\n",
    "    subset='validation'\n",
    ")\n"
   ]
  },
  {
   "cell_type": "markdown",
   "id": "36ab41e5",
   "metadata": {},
   "source": [
    "### Model Definition"
   ]
  },
  {
   "cell_type": "code",
   "execution_count": null,
   "id": "3cca949f",
   "metadata": {},
   "outputs": [],
   "source": [
    "# Load MobileNetV2 model without the top classification layer\n",
    "base_model = MobileNetV2(weights='imagenet', include_top=False, input_shape=(128, 128, 3))  # Use MobileNetV2\n",
    "x = base_model.output\n",
    "x = GlobalAveragePooling2D()(x)\n",
    "x = Dense(1024, activation='relu')(x)\n",
    "predictions = Dense(len(train_generator.class_indices), activation='softmax')(x)\n",
    "model = Model(inputs=base_model.input, outputs=predictions)\n"
   ]
  },
  {
   "cell_type": "markdown",
   "id": "0d131f61",
   "metadata": {},
   "source": [
    "### Model Compilation and Training"
   ]
  },
  {
   "cell_type": "code",
   "execution_count": 3,
   "id": "5576d6dc",
   "metadata": {
    "scrolled": true
   },
   "outputs": [
    {
     "name": "stdout",
     "output_type": "stream",
     "text": [
      "Epoch 1/10\n",
      "679/679 [==============================] - 3076s 4s/step - loss: 0.3215 - accuracy: 0.9129 - val_loss: 2.4360 - val_accuracy: 0.4377 - lr: 1.0000e-04\n",
      "Epoch 2/10\n",
      "679/679 [==============================] - 3502s 5s/step - loss: 0.0614 - accuracy: 0.9798 - val_loss: 1.2750 - val_accuracy: 0.6794 - lr: 1.0000e-04\n",
      "Epoch 3/10\n",
      "679/679 [==============================] - 3385s 5s/step - loss: 0.0390 - accuracy: 0.9874 - val_loss: 0.4530 - val_accuracy: 0.8772 - lr: 1.0000e-04\n",
      "Epoch 4/10\n",
      "679/679 [==============================] - 3038s 4s/step - loss: 0.0307 - accuracy: 0.9905 - val_loss: 0.2149 - val_accuracy: 0.9456 - lr: 1.0000e-04\n",
      "Epoch 5/10\n",
      "679/679 [==============================] - 3042s 4s/step - loss: 0.0299 - accuracy: 0.9901 - val_loss: 0.1909 - val_accuracy: 0.9477 - lr: 1.0000e-04\n",
      "Epoch 6/10\n",
      "679/679 [==============================] - 3628s 5s/step - loss: 0.0137 - accuracy: 0.9956 - val_loss: 0.0324 - val_accuracy: 0.9895 - lr: 1.0000e-05\n",
      "Epoch 7/10\n",
      "679/679 [==============================] - 3339s 5s/step - loss: 0.0086 - accuracy: 0.9972 - val_loss: 0.0234 - val_accuracy: 0.9929 - lr: 1.0000e-05\n",
      "Epoch 8/10\n",
      "679/679 [==============================] - 3050s 4s/step - loss: 0.0064 - accuracy: 0.9980 - val_loss: 0.0196 - val_accuracy: 0.9936 - lr: 1.0000e-05\n",
      "Epoch 9/10\n",
      "679/679 [==============================] - 3568s 5s/step - loss: 0.0056 - accuracy: 0.9982 - val_loss: 0.0197 - val_accuracy: 0.9935 - lr: 1.0000e-05\n",
      "Epoch 10/10\n",
      "679/679 [==============================] - 3093s 5s/step - loss: 0.0049 - accuracy: 0.9986 - val_loss: 0.0155 - val_accuracy: 0.9947 - lr: 1.0000e-05\n"
     ]
    }
   ],
   "source": [
    "# Enable mixed precision training\n",
    "opt = tf.keras.optimizers.Adam(learning_rate=1e-4)\n",
    "opt = tf.keras.mixed_precision.LossScaleOptimizer(opt)\n",
    "\n",
    "# Compile the model with the mixed precision optimizer\n",
    "model.compile(optimizer=opt, loss='categorical_crossentropy', metrics=['accuracy'])\n",
    "\n",
    "# Define a learning rate schedule to decrease learning rate during training\n",
    "def lr_schedule(epoch):\n",
    "    if epoch < 5:\n",
    "        return 1e-4\n",
    "    elif epoch < 10:\n",
    "        return 1e-5\n",
    "    else:\n",
    "        return 1e-6\n",
    "\n",
    "# Save the model checkpoints during training\n",
    "checkpoint_callback = ModelCheckpoint('best_model.h5', monitor='val_accuracy', save_best_only=True, mode='max')\n",
    "\n",
    "# Train the model for 10 epochs with learning rate scheduling and checkpoints\n",
    "epochs = 10\n",
    "history = model.fit(\n",
    "    train_generator,\n",
    "    validation_data=validation_generator,\n",
    "    epochs=epochs,\n",
    "    callbacks=[LearningRateScheduler(lr_schedule), checkpoint_callback]\n",
    ")"
   ]
  },
  {
   "cell_type": "markdown",
   "id": "52e9abc6",
   "metadata": {},
   "source": [
    "### Results Visualization and Model Evaluation"
   ]
  },
  {
   "cell_type": "code",
   "execution_count": 4,
   "id": "10c3fefa",
   "metadata": {},
   "outputs": [
    {
     "data": {
      "image/png": "[encoded data removed]",
      "text/plain": [
       "<Figure size 432x288 with 1 Axes>"
      ]
     },
     "metadata": {
      "needs_background": "light"
     },
     "output_type": "display_data"
    }
   ],
   "source": [
    "# Plot training and validation accuracy\n",
    "plt.plot(history.history['accuracy'], label='Training Accuracy')\n",
    "plt.plot(history.history['val_accuracy'], label='Validation Accuracy')\n",
    "plt.xlabel('Epoch')\n",
    "plt.ylabel('Accuracy')\n",
    "plt.legend()\n",
    "plt.show()"
   ]
  },
  {
   "cell_type": "code",
   "execution_count": 5,
   "id": "65a1a53f",
   "metadata": {},
   "outputs": [
    {
     "data": {
      "image/png": "[encoded data removed]",
      "text/plain": [
       "<Figure size 432x288 with 1 Axes>"
      ]
     },
     "metadata": {
      "needs_background": "light"
     },
     "output_type": "display_data"
    }
   ],
   "source": [
    "# Plot training and validation loss\n",
    "plt.plot(history.history['loss'], label='Training Loss')\n",
    "plt.plot(history.history['val_loss'], label='Validation Loss')\n",
    "plt.xlabel('Epoch')\n",
    "plt.ylabel('Loss')\n",
    "plt.legend()\n",
    "plt.show()\n"
   ]
  },
  {
   "cell_type": "code",
   "execution_count": 6,
   "id": "2d87e266",
   "metadata": {},
   "outputs": [
    {
     "name": "stdout",
     "output_type": "stream",
     "text": [
      "Found 54305 images belonging to 38 classes.\n",
      "849/849 [==============================] - 616s 725ms/step\n",
      "Classification Report:\n",
      "                                                    precision    recall  f1-score   support\n",
      "\n",
      "                                Apple___Apple_scab       0.99      0.99      0.99       630\n",
      "                                 Apple___Black_rot       1.00      1.00      1.00       621\n",
      "                          Apple___Cedar_apple_rust       1.00      1.00      1.00       275\n",
      "                                   Apple___healthy       0.99      1.00      1.00      1645\n",
      "                               Blueberry___healthy       1.00      1.00      1.00      1502\n",
      "          Cherry_(including_sour)___Powdery_mildew       1.00      0.99      0.99      1052\n",
      "                 Cherry_(including_sour)___healthy       1.00      1.00      1.00       854\n",
      "Corn_(maize)___Cercospora_leaf_spot Gray_leaf_spot       0.96      0.97      0.96       513\n",
      "                       Corn_(maize)___Common_rust_       1.00      1.00      1.00      1192\n",
      "               Corn_(maize)___Northern_Leaf_Blight       0.98      0.98      0.98       985\n",
      "                            Corn_(maize)___healthy       1.00      1.00      1.00      1162\n",
      "                                 Grape___Black_rot       1.00      1.00      1.00      1180\n",
      "                      Grape___Esca_(Black_Measles)       1.00      1.00      1.00      1383\n",
      "        Grape___Leaf_blight_(Isariopsis_Leaf_Spot)       1.00      1.00      1.00      1076\n",
      "                                   Grape___healthy       1.00      1.00      1.00       423\n",
      "          Orange___Haunglongbing_(Citrus_greening)       1.00      1.00      1.00      5507\n",
      "                            Peach___Bacterial_spot       1.00      1.00      1.00      2297\n",
      "                                   Peach___healthy       1.00      1.00      1.00       360\n",
      "                     Pepper,_bell___Bacterial_spot       1.00      1.00      1.00       997\n",
      "                            Pepper,_bell___healthy       1.00      1.00      1.00      1478\n",
      "                             Potato___Early_blight       0.99      1.00      1.00      1000\n",
      "                              Potato___Late_blight       1.00      1.00      1.00      1000\n",
      "                                  Potato___healthy       1.00      0.95      0.97       152\n",
      "                               Raspberry___healthy       1.00      0.99      1.00       371\n",
      "                                 Soybean___healthy       1.00      1.00      1.00      5090\n",
      "                           Squash___Powdery_mildew       1.00      1.00      1.00      1835\n",
      "                          Strawberry___Leaf_scorch       1.00      1.00      1.00      1109\n",
      "                              Strawberry___healthy       1.00      1.00      1.00       456\n",
      "                           Tomato___Bacterial_spot       1.00      0.99      1.00      2127\n",
      "                             Tomato___Early_blight       0.99      0.97      0.98      1000\n",
      "                              Tomato___Late_blight       1.00      0.99      0.99      1909\n",
      "                                Tomato___Leaf_Mold       1.00      1.00      1.00       952\n",
      "                       Tomato___Septoria_leaf_spot       0.98      1.00      0.99      1771\n",
      "     Tomato___Spider_mites Two-spotted_spider_mite       1.00      0.99      0.99      1676\n",
      "                              Tomato___Target_Spot       0.99      0.99      0.99      1404\n",
      "            Tomato___Tomato_Yellow_Leaf_Curl_Virus       1.00      1.00      1.00      5357\n",
      "                      Tomato___Tomato_mosaic_virus       1.00      0.99      0.99       373\n",
      "                                  Tomato___healthy       0.99      1.00      0.99      1591\n",
      "\n",
      "                                          accuracy                           1.00     54305\n",
      "                                         macro avg       1.00      0.99      0.99     54305\n",
      "                                      weighted avg       1.00      1.00      1.00     54305\n",
      "\n",
      "Confusion Matrix:\n",
      "[[ 621    0    0 ...    0    0    0]\n",
      " [   0  621    0 ...    0    0    0]\n",
      " [   0    0  274 ...    0    0    0]\n",
      " ...\n",
      " [   0    0    0 ... 5351    0    0]\n",
      " [   0    0    0 ...    2  369    0]\n",
      " [   0    0    0 ...    0    0 1591]]\n"
     ]
    }
   ],
   "source": [
    "# Save the final model\n",
    "model.save('mobilenetv2_color_model.h5')\n",
    "\n",
    "# Evaluate the model on the test set\n",
    "test_datagen = ImageDataGenerator(rescale=1.0 / 255)\n",
    "test_generator = test_datagen.flow_from_directory(\n",
    "    data_dir,\n",
    "    target_size=input_size,\n",
    "    batch_size=batch_size,\n",
    "    class_mode='categorical',\n",
    "    shuffle=False\n",
    ")\n",
    "\n",
    "# Get the ground truth labels and perform predictions\n",
    "true_labels = test_generator.classes\n",
    "pred_probs = model.predict(test_generator)\n",
    "predicted_labels = np.argmax(pred_probs, axis=1)\n",
    "\n",
    "# Print classification report and confusion matrix\n",
    "print(\"Classification Report:\")\n",
    "print(classification_report(true_labels, predicted_labels, target_names=test_generator.class_indices))\n",
    "\n",
    "print(\"Confusion Matrix:\")\n",
    "print(confusion_matrix(true_labels, predicted_labels))"
   ]
  },
  {
   "cell_type": "code",
   "execution_count": null,
   "id": "ecb8ed69",
   "metadata": {},
   "outputs": [],
   "source": []
  }
 ],
 "metadata": {
  "kernelspec": {
   "display_name": "Python 3 (ipykernel)",
   "language": "python",
   "name": "python3"
  },
  "language_info": {
   "codemirror_mode": {
    "name": "ipython",
    "version": 3
   },
   "file_extension": ".py",
   "mimetype": "text/x-python",
   "name": "python",
   "nbconvert_exporter": "python",
   "pygments_lexer": "ipython3",
   "version": "3.9.12"
  }
 },
 "nbformat": 4,
 "nbformat_minor": 5
}
